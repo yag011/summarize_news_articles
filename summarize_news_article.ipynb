{
 "cells": [
  {
   "cell_type": "code",
   "execution_count": 1,
   "id": "1956ed99",
   "metadata": {},
   "outputs": [
    {
     "name": "stdout",
     "output_type": "stream",
     "text": [
      "Looking in indexes: https://pypi.org/simple, https://pip.repos.neuron.amazonaws.com\n",
      "Requirement already satisfied: newspaper3k in /home/ec2-user/anaconda3/envs/pytorch_p310/lib/python3.10/site-packages (0.2.8)\n",
      "Requirement already satisfied: beautifulsoup4>=4.4.1 in /home/ec2-user/anaconda3/envs/pytorch_p310/lib/python3.10/site-packages (from newspaper3k) (4.12.2)\n",
      "Requirement already satisfied: Pillow>=3.3.0 in /home/ec2-user/anaconda3/envs/pytorch_p310/lib/python3.10/site-packages (from newspaper3k) (9.5.0)\n",
      "Requirement already satisfied: PyYAML>=3.11 in /home/ec2-user/anaconda3/envs/pytorch_p310/lib/python3.10/site-packages (from newspaper3k) (5.4.1)\n",
      "Requirement already satisfied: cssselect>=0.9.2 in /home/ec2-user/anaconda3/envs/pytorch_p310/lib/python3.10/site-packages (from newspaper3k) (1.2.0)\n",
      "Requirement already satisfied: lxml>=3.6.0 in /home/ec2-user/anaconda3/envs/pytorch_p310/lib/python3.10/site-packages (from newspaper3k) (4.9.2)\n",
      "Requirement already satisfied: nltk>=3.2.1 in /home/ec2-user/anaconda3/envs/pytorch_p310/lib/python3.10/site-packages (from newspaper3k) (3.8.1)\n",
      "Requirement already satisfied: requests>=2.10.0 in /home/ec2-user/anaconda3/envs/pytorch_p310/lib/python3.10/site-packages (from newspaper3k) (2.29.0)\n",
      "Requirement already satisfied: feedparser>=5.2.1 in /home/ec2-user/anaconda3/envs/pytorch_p310/lib/python3.10/site-packages (from newspaper3k) (6.0.10)\n",
      "Requirement already satisfied: tldextract>=2.0.1 in /home/ec2-user/anaconda3/envs/pytorch_p310/lib/python3.10/site-packages (from newspaper3k) (3.4.4)\n",
      "Requirement already satisfied: feedfinder2>=0.0.4 in /home/ec2-user/anaconda3/envs/pytorch_p310/lib/python3.10/site-packages (from newspaper3k) (0.0.4)\n",
      "Requirement already satisfied: jieba3k>=0.35.1 in /home/ec2-user/anaconda3/envs/pytorch_p310/lib/python3.10/site-packages (from newspaper3k) (0.35.1)\n",
      "Requirement already satisfied: python-dateutil>=2.5.3 in /home/ec2-user/anaconda3/envs/pytorch_p310/lib/python3.10/site-packages (from newspaper3k) (2.8.2)\n",
      "Requirement already satisfied: tinysegmenter==0.3 in /home/ec2-user/anaconda3/envs/pytorch_p310/lib/python3.10/site-packages (from newspaper3k) (0.3)\n",
      "Requirement already satisfied: soupsieve>1.2 in /home/ec2-user/anaconda3/envs/pytorch_p310/lib/python3.10/site-packages (from beautifulsoup4>=4.4.1->newspaper3k) (2.3.2.post1)\n",
      "Requirement already satisfied: six in /home/ec2-user/anaconda3/envs/pytorch_p310/lib/python3.10/site-packages (from feedfinder2>=0.0.4->newspaper3k) (1.16.0)\n",
      "Requirement already satisfied: sgmllib3k in /home/ec2-user/anaconda3/envs/pytorch_p310/lib/python3.10/site-packages (from feedparser>=5.2.1->newspaper3k) (1.0.0)\n",
      "Requirement already satisfied: click in /home/ec2-user/anaconda3/envs/pytorch_p310/lib/python3.10/site-packages (from nltk>=3.2.1->newspaper3k) (8.1.3)\n",
      "Requirement already satisfied: joblib in /home/ec2-user/anaconda3/envs/pytorch_p310/lib/python3.10/site-packages (from nltk>=3.2.1->newspaper3k) (1.2.0)\n",
      "Requirement already satisfied: regex>=2021.8.3 in /home/ec2-user/anaconda3/envs/pytorch_p310/lib/python3.10/site-packages (from nltk>=3.2.1->newspaper3k) (2023.6.3)\n",
      "Requirement already satisfied: tqdm in /home/ec2-user/anaconda3/envs/pytorch_p310/lib/python3.10/site-packages (from nltk>=3.2.1->newspaper3k) (4.65.0)\n",
      "Requirement already satisfied: charset-normalizer<4,>=2 in /home/ec2-user/anaconda3/envs/pytorch_p310/lib/python3.10/site-packages (from requests>=2.10.0->newspaper3k) (3.1.0)\n",
      "Requirement already satisfied: idna<4,>=2.5 in /home/ec2-user/anaconda3/envs/pytorch_p310/lib/python3.10/site-packages (from requests>=2.10.0->newspaper3k) (3.4)\n",
      "Requirement already satisfied: urllib3<1.27,>=1.21.1 in /home/ec2-user/anaconda3/envs/pytorch_p310/lib/python3.10/site-packages (from requests>=2.10.0->newspaper3k) (1.26.14)\n",
      "Requirement already satisfied: certifi>=2017.4.17 in /home/ec2-user/anaconda3/envs/pytorch_p310/lib/python3.10/site-packages (from requests>=2.10.0->newspaper3k) (2023.5.7)\n",
      "Requirement already satisfied: requests-file>=1.4 in /home/ec2-user/anaconda3/envs/pytorch_p310/lib/python3.10/site-packages (from tldextract>=2.0.1->newspaper3k) (1.5.1)\n",
      "Requirement already satisfied: filelock>=3.0.8 in /home/ec2-user/anaconda3/envs/pytorch_p310/lib/python3.10/site-packages (from tldextract>=2.0.1->newspaper3k) (3.12.0)\n"
     ]
    }
   ],
   "source": [
    "!pip install newspaper3k"
   ]
  },
  {
   "cell_type": "code",
   "execution_count": 2,
   "id": "237930ad",
   "metadata": {},
   "outputs": [
    {
     "name": "stderr",
     "output_type": "stream",
     "text": [
      "[nltk_data] Downloading package punkt to /home/ec2-user/nltk_data...\n",
      "[nltk_data]   Package punkt is already up-to-date!\n"
     ]
    },
    {
     "data": {
      "text/plain": [
       "True"
      ]
     },
     "execution_count": 2,
     "metadata": {},
     "output_type": "execute_result"
    }
   ],
   "source": [
    "from newspaper import Article\n",
    "import nltk\n",
    "nltk.download('punkt')"
   ]
  },
  {
   "cell_type": "code",
   "execution_count": 3,
   "id": "eada6107",
   "metadata": {},
   "outputs": [],
   "source": [
    "url = \"https://www.usatoday.com/story/sports/mlb/2023/06/26/from-yankees-caps-to-unbuttoned-jerseys-mlb-is-hoping-fashion-fuels-interest-in-france/70357638007/\"\n",
    "current_article = Article(url, language=\"en\")\n",
    "current_article.download()\n",
    "current_article.parse()\n",
    "current_article.nlp()"
   ]
  },
  {
   "cell_type": "code",
   "execution_count": 4,
   "id": "fd1acf51",
   "metadata": {},
   "outputs": [
    {
     "data": {
      "text/plain": [
       "'From Yankees caps to unbuttoned jerseys, MLB is hoping fashion fuels interest in France'"
      ]
     },
     "execution_count": 4,
     "metadata": {},
     "output_type": "execute_result"
    }
   ],
   "source": [
    "current_article.title"
   ]
  },
  {
   "cell_type": "code",
   "execution_count": 5,
   "id": "7c6a8a55",
   "metadata": {},
   "outputs": [
    {
     "data": {
      "text/plain": [
       "\"As Major League Baseball tries to solve Europe, it's looking for ways to connect with the locals and grow its fan base.\\n“One of the things that comes to mind when you think about France is fashion.\\nYankees caps are the best sellers not just in France but across Europe, the league said.\\n“Baseball jerseys are starting to become more fashionable — with buttons open.”People who wear caps as fashion choices don't necessarily know much about the teams.\\nIn France, the top four in total merchandise sales are the Yankees, Los Angeles Angels, Dodgers and Blue Jays.\""
      ]
     },
     "execution_count": 5,
     "metadata": {},
     "output_type": "execute_result"
    }
   ],
   "source": [
    "current_article.summary"
   ]
  },
  {
   "cell_type": "code",
   "execution_count": 6,
   "id": "4a75b31e",
   "metadata": {},
   "outputs": [
    {
     "data": {
      "text/plain": [
       "\"KEN MAGUIRE\\n\\nAP\\n\\nLONDON (AP) — France might not know too much about baseball. Fashion is another story.\\n\\nAs Major League Baseball tries to solve Europe, it's looking for ways to connect with the locals and grow its fan base.\\n\\nIn Britain, there's a common language and a similar bat-and-ball game in cricket. The Netherlands has a baseball tradition with star players from Aruba and Curacao. Germany has a big U.S. military presence, and like the U.K. has been receptive to the NFL.\\n\\nAnd France?\\n\\n“One of the things that people often overlook with baseball is the fashion element,” Chris Marinak, MLB’s chief operations and strategy officer, told The Associated Press in a recent interview. “One of the things that comes to mind when you think about France is fashion. We have a really large fashion business there and the presence of jerseys and hats in particular are really, really strong in France.”\\n\\nFollow the money: MLB player salaries and payrolls for every major league team\\n\\nFrance is one of MLB's hottest markets in Europe for online merchandise sales, with caps up 152% this year and overall sales up 25%, the league said. The New York Yankees are the top sellers.\\n\\nRight on cue, French basketball prodigy Victor Wembanyama stopped by the Bronx before the NBA draft last week and threw out the ceremonial first pitch — all while wearing a Yankees jersey. Days later, he became the No. 1 pick, selected by the San Antonio Spurs.\\n\\n“We feel like by potentially doing more in that market, we can really activate behind the fashion element and use the fashion element as a way to get more media exposure for our live games, and then see that snowball effect kind of go in France,” Marinak said.\\n\\nMLB plans to play games in Paris during the 2025 season, though it's not been finalized, and the Yankees have been lobbying to headline the bill as they did when they played the Boston Red Sox in London in 2019 for MLB's European debut.\\n\\nFrom a marketing standpoint, this would be a no-brainer, and it's backed up by the sales figures. Yankees caps are the best sellers not just in France but across Europe, the league said.\\n\\nJerseys are having a moment, too. As GQ declared in an article in 2022, “The humble baseball jersey is still perfect for summer style.” The way Wembanyama wore his Yankees jersey — unbuttoned — is especially on trend.\\n\\n“That’s a big thing,” St. Louis Cardinals outfielder Lars Nootbaar said after a workout Friday at London Stadium, where his team split a weekend series with the Chicago Cubs. “Baseball jerseys are starting to become more fashionable — with buttons open.”\\n\\nPeople who wear caps as fashion choices don't necessarily know much about the teams. The French will acknowledge that they love all things New York, so that surely accounts for some of the Yankees' popularity, though Nootbaar was optimistic that MLB could still make inroads that way.\\n\\n“Anytime you’re rocking something, whether it’s a streetwear brand or anything, you want to know a little bit about it,” he said.\\n\\nBaseball has a long way to go to catch up to basketball's popularity in France, which is churning out NBA draft picks.\\n\\n“There’s this obstacle of the length of the game. Now with the new rules, maybe it’s going to be more popular,” said French journalist Marion Hayot, who was in London covering the Cards-Cubs games for The Strike Out.\\n\\nBut a potential Yankees game at Stade de France “will be huge,” she said, adding that a fair number of French fans — including one devoted to Derek Jeter — trekked to London for the weekend series.\\n\\nIn all of Europe, online sales for hats in 2023 are up 5% versus a year ago, the league said. The list of top sellers goes: Yankees, Cubs, Red Sox, Los Angeles Dodgers, Toronto Blue Jays.\\n\\nIn France, the top four in total merchandise sales are the Yankees, Los Angeles Angels, Dodgers and Blue Jays.\\n\\nMLB is doing pretty good worldwide, too. The league said merchandise sales internationally last year were up 24%, and that includes a 37% increase in the Europe-Middle East-Africa region.\\n\\nLondon is seen as the anchor and Paris is all but a sure thing, but the league has identified Germany as country with stadiums large enough to stage an MLB game. Italy has some passionate fans, a long history of Italian-American stars, and a soccer club — AC Milan — with links to guess which MLB team? The Yankees.\\n\\n___\\n\\nAP MLB: https://apnews.com/hub/mlb and https://twitter.com/AP_Sports\""
      ]
     },
     "execution_count": 6,
     "metadata": {},
     "output_type": "execute_result"
    }
   ],
   "source": [
    "current_article.text"
   ]
  },
  {
   "cell_type": "code",
   "execution_count": 7,
   "id": "5731438a",
   "metadata": {},
   "outputs": [
    {
     "data": {
      "text/plain": [
       "['jerseys',\n",
       " 'interest',\n",
       " 'fuels',\n",
       " 'really',\n",
       " 'league',\n",
       " 'unbuttoned',\n",
       " 'caps',\n",
       " 'london',\n",
       " 'france',\n",
       " 'mlb',\n",
       " 'game',\n",
       " 'hoping',\n",
       " 'fashion',\n",
       " 'sales',\n",
       " 'baseball',\n",
       " 'yankees']"
      ]
     },
     "execution_count": 7,
     "metadata": {},
     "output_type": "execute_result"
    }
   ],
   "source": [
    "current_article.keywords"
   ]
  },
  {
   "cell_type": "code",
   "execution_count": 8,
   "id": "a597ee11",
   "metadata": {},
   "outputs": [],
   "source": [
    "def article_summary():\n",
    "    url = input(\"please type the article link you want to summarize: \")\n",
    "    print(input)\n",
    "    current_article = Article(url, language=\"en\")\n",
    "    current_article.download()\n",
    "    current_article.parse()\n",
    "    current_article.nlp()\n",
    "    print('\\n')\n",
    "    print(\"article title: \")\n",
    "    print(current_article.title)\n",
    "    print('\\n')\n",
    "    print(\"article key words: \")\n",
    "    print(current_article.keywords)\n",
    "    print('\\n')\n",
    "    print(\"article summary: \")\n",
    "    print(current_article.summary)"
   ]
  },
  {
   "cell_type": "code",
   "execution_count": 9,
   "id": "be98837c",
   "metadata": {},
   "outputs": [
    {
     "name": "stdout",
     "output_type": "stream",
     "text": [
      "please type the article link you want to summarize: https://www.hawaiinewsnow.com/2023/06/27/reservations-will-soon-no-longer-be-required-kamaaina-entry-into-hanauma-bay/\n",
      "<bound method Kernel.raw_input of <ipykernel.ipkernel.IPythonKernel object at 0x7fcb0efcb430>>\n",
      "\n",
      "\n",
      "article title: \n",
      "Reservations will soon no longer be required for kamaaina entry into Hanauma Bay\n",
      "\n",
      "\n",
      "article key words: \n",
      "['visitors', 'bay', 'soon', 'required', 'kamaaina', 'longer', 'department', 'parks', 'city', 'entry', 'needed', 'reservation', 'free', 'online', 'hanauma', 'reservations']\n",
      "\n",
      "\n",
      "article summary: \n",
      "Previously, kamaaina could enter the park for free with no reservation until 9 a.m. but still needed a walk-in ticket or online booking.\n",
      "In 2021, the city implemented an online reservation system to limit the number of total visitors to 1,400 per day for conservation purposes.\n",
      "The revenue from the entry fees goes to education, maintenance, and conservation efforts, according to Department of Parks Department spokesperson Nate Serota.\n",
      "The latest access expansion for kamaaina comes as part of an effort to bring locals back to the preserve after introducing the online reservation system.\n",
      "Hanauma Bay was once a favorite fishing spot of Hawaiian royalty and is the site of historically significant events for Native Hawaiians.\n"
     ]
    }
   ],
   "source": [
    "article_summary()"
   ]
  },
  {
   "cell_type": "code",
   "execution_count": null,
   "id": "ab0fe2b3",
   "metadata": {},
   "outputs": [],
   "source": []
  }
 ],
 "metadata": {
  "kernelspec": {
   "display_name": "conda_pytorch_p310",
   "language": "python",
   "name": "conda_pytorch_p310"
  },
  "language_info": {
   "codemirror_mode": {
    "name": "ipython",
    "version": 3
   },
   "file_extension": ".py",
   "mimetype": "text/x-python",
   "name": "python",
   "nbconvert_exporter": "python",
   "pygments_lexer": "ipython3",
   "version": "3.10.10"
  }
 },
 "nbformat": 4,
 "nbformat_minor": 5
}
